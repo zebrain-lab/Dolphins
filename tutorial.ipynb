{
    "cells": [
     {
      "cell_type": "markdown",
      "metadata": {},
      "source": [
       "# Whistle Detection and Analysis Tutorial\n",
       "\n",
       "This notebook demonstrates how to use the whistle detection and analysis functions to:\n",
       "1. Generate spectrograms from audio files\n",
       "2. Detect whistles using variance analysis\n",
       "3. Extract and analyze whistle contours"
      ]
     },
     {
      "cell_type": "code",
      "execution_count": null,
      "metadata": {},
      "source": [
       "import numpy as np\n",
       "from AutomaticExtraction.spectrogram import wav_to_spec, Vectorize_Spectrogram\n",
       "from AutomaticExtraction.dtw_variance import variance_vector, whistle_zones, vectorize_wh_zones\n",
       "import matplotlib.pyplot as plt"
      ]
     },
     {
      "cell_type": "markdown",
      "metadata": {},
      "source": [
       "## 1. Loading and Visualizing Audio Data\n",
       "\n",
       "First, let's load an audio file and generate its spectrogram"
      ]
     },
     {
      "cell_type": "code",
      "execution_count": null,
      "metadata": {},
      "source": [
       "# Load audio file and generate spectrogram\n",
       "audio_file = \"path/to/your/audio.wav\"  # Replace with your audio file path\n",
       "specgram, freqs, times = wav_to_spec(\n",
       "    audio_file,\n",
       "    stride_ms=5.0,\n",
       "    window_ms=10.0,\n",
       "    max_freq=24000,  # Adjust based on your needs\n",
       "    min_freq=2000\n",
       ")\n",
       "\n",
       "# Plot spectrogram\n",
       "plt.figure(figsize=(12, 6))\n",
       "plt.pcolormesh(times, freqs, 10 * np.log10(specgram))\n",
       "plt.ylabel('Frequency [Hz]')\n",
       "plt.xlabel('Time [sec]')\n",
       "plt.colorbar(label='Intensity [dB]')\n",
       "plt.title('Spectrogram')\n",
       "plt.show()"
      ]
     },
     {
      "cell_type": "markdown",
      "metadata": {},
      "source": [
       "## 2. Detecting Whistle Zones\n",
       "\n",
       "Now let's detect potential whistle regions using variance analysis"
      ]
     },
     {
      "cell_type": "code",
      "execution_count": null,
      "metadata": {},
      "source": [
       "# Compute variance vector\n",
       "var_wind = variance_vector(specgram, freqs, window_size=5)\n",
       "\n",
       "# Detect whistle zones\n",
       "wh_zone = whistle_zones(var_wind, threshold=1e6)\n",
       "\n",
       "# Plot variance and detected zones\n",
       "plt.figure(figsize=(12, 8))\n",
       "\n",
       "plt.subplot(211)\n",
       "plt.plot(times, var_wind)\n",
       "plt.title('Variance Vector')\n",
       "plt.ylabel('Variance')\n",
       "\n",
       "plt.subplot(212)\n",
       "plt.plot(times, wh_zone)\n",
       "plt.title('Detected Whistle Zones')\n",
       "plt.xlabel('Time [sec]')\n",
       "plt.ylabel('Detection')\n",
       "\n",
       "plt.tight_layout()\n",
       "plt.show()"
      ]
     },
     {
      "cell_type": "markdown",
      "metadata": {},
      "source": [
       "## 3. Extracting Whistle Contours\n",
       "\n",
       "Finally, let's extract the frequency contours of detected whistles"
      ]
     },
     {
      "cell_type": "code",
      "execution_count": null,
      "metadata": {},
      "source": [
       "# Extract whistle contours\n",
       "wht, whf = vectorize_wh_zones(specgram, times, freqs, wh_zone)\n",
       "\n",
       "# Plot spectrogram with detected whistle contours\n",
       "plt.figure(figsize=(12, 6))\n",
       "plt.pcolormesh(times, freqs, 10 * np.log10(specgram), shading='auto')\n",
       "plt.plot(wht, whf, 'r-', linewidth=2, label='Detected Whistle')\n",
       "plt.ylabel('Frequency [Hz]')\n",
       "plt.xlabel('Time [sec]')\n",
       "plt.colorbar(label='Intensity [dB]')\n",
       "plt.title('Spectrogram with Detected Whistle Contours')\n",
       "plt.legend()\n",
       "plt.show()"
      ]
     }
    ],
    "metadata": {
     "kernelspec": {
      "display_name": "git_dolphin_extract",
      "language": "python",
      "name": "python3"
     },
     "language_info": {
      "name": "python",
      "version": "3.12.9"
     }
    },
    "nbformat": 4,
    "nbformat_minor": 2
   }